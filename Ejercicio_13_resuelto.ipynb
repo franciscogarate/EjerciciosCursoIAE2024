{
 "cells": [
  {
   "cell_type": "markdown",
   "metadata": {},
   "source": [
    "# Ejercicio 13. Hallar la media y desviación estándar de siniestros"
   ]
  },
  {
   "cell_type": "markdown",
   "metadata": {},
   "source": [
    "Con el fichero *siniestros.xls* del ejercicio 9, se pide hallar la media y desviación estándar de los siniestros estimando que se distribuyen como una distribución normal."
   ]
  },
  {
   "cell_type": "code",
   "execution_count": 1,
   "metadata": {},
   "outputs": [
    {
     "name": "stdout",
     "output_type": "stream",
     "text": [
      "20.0\n",
      "4.505774073341893\n"
     ]
    }
   ],
   "source": [
    "import pandas as pd\n",
    "import scipy.stats as st\n",
    "\n",
    "df = pd.read_excel('siniestros.xls')\n",
    "media, desviacion = st.norm.fit(df['Importe'])\n",
    "\n",
    "print(media)\n",
    "print(desviacion)"
   ]
  },
  {
   "cell_type": "code",
   "execution_count": null,
   "metadata": {},
   "outputs": [],
   "source": []
  }
 ],
 "metadata": {
  "kernelspec": {
   "display_name": "Python 3 (ipykernel)",
   "language": "python",
   "name": "python3"
  },
  "language_info": {
   "codemirror_mode": {
    "name": "ipython",
    "version": 3
   },
   "file_extension": ".py",
   "mimetype": "text/x-python",
   "name": "python",
   "nbconvert_exporter": "python",
   "pygments_lexer": "ipython3",
   "version": "3.12.2"
  }
 },
 "nbformat": 4,
 "nbformat_minor": 4
}
