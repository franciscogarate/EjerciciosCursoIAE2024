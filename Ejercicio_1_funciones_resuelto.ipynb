{
 "cells": [
  {
   "cell_type": "markdown",
   "metadata": {},
   "source": [
    "## Creación de funciones en python"
   ]
  },
  {
   "cell_type": "markdown",
   "metadata": {},
   "source": [
    "La función del índice de masa corporal es:\n",
    "$IMC = \\frac{masa}{estatura^2}$\n",
    "\n",
    "| Composición corporal | Índice de masa corporal (IMC) |\n",
    "| --- | --- |\n",
    "| Peso inferior al normal | < 18.5 |\n",
    "| Normal | 18.5 – 24.9 | \n",
    "| Peso superior al normal | > 25.0 | \n",
    "\n",
    "\n",
    "Se pide crear una función que calcule el IMC y otra función que devuelva en texto la composición corporal."
   ]
  },
  {
   "cell_type": "code",
   "execution_count": 1,
   "metadata": {},
   "outputs": [],
   "source": [
    "def imc(masa, estatura):\n",
    "    return masa / (estatura ** 2)"
   ]
  },
  {
   "cell_type": "code",
   "execution_count": 2,
   "metadata": {},
   "outputs": [
    {
     "data": {
      "text/plain": [
       "24.95659722222222"
      ]
     },
     "execution_count": 2,
     "metadata": {},
     "output_type": "execute_result"
    }
   ],
   "source": [
    "imc(92,1.92)"
   ]
  },
  {
   "cell_type": "code",
   "execution_count": 3,
   "metadata": {},
   "outputs": [],
   "source": [
    "def composicion(x):\n",
    "    x = float(x)\n",
    "    if x < 18.5:\n",
    "        return 'Debajo de lo normal'\n",
    "    elif 18.5 <= x < 24.9:\n",
    "        return 'normal'\n",
    "    else:\n",
    "        return 'superior a lo normal'"
   ]
  },
  {
   "cell_type": "code",
   "execution_count": 4,
   "metadata": {},
   "outputs": [
    {
     "data": {
      "text/plain": [
       "'normal'"
      ]
     },
     "execution_count": 4,
     "metadata": {},
     "output_type": "execute_result"
    }
   ],
   "source": [
    "composicion(18.5)"
   ]
  }
 ],
 "metadata": {
  "kernelspec": {
   "display_name": "Python 3 (ipykernel)",
   "language": "python",
   "name": "python3"
  },
  "language_info": {
   "codemirror_mode": {
    "name": "ipython",
    "version": 3
   },
   "file_extension": ".py",
   "mimetype": "text/x-python",
   "name": "python",
   "nbconvert_exporter": "python",
   "pygments_lexer": "ipython3",
   "version": "3.12.2"
  }
 },
 "nbformat": 4,
 "nbformat_minor": 4
}
