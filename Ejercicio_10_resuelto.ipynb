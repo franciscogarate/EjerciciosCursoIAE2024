{
 "cells": [
  {
   "cell_type": "markdown",
   "metadata": {},
   "source": [
    "# Ejercicio 10. Intervalo de confianza"
   ]
  },
  {
   "cell_type": "markdown",
   "metadata": {},
   "source": [
    "Una entidad tiene previsto adquirir una cartera de 32.000 pólizas en una población donde no\n",
    "posee presencia.\n",
    "En el fichero *'siniestros.xls'* se recoge una muestra de 2.000 siniestros de una población de\n",
    "similar extensión y densidad. Se pide:\n",
    "* Calcular el intervalo de confianza al 95 % para la media de siniestralidad total del negocio\n",
    "a adquirir"
   ]
  },
  {
   "cell_type": "code",
   "execution_count": 1,
   "metadata": {},
   "outputs": [],
   "source": [
    "import numpy as np\n",
    "import pandas as pd\n",
    "import scipy.stats as st\n",
    "\n",
    "df = pd.read_excel('siniestros.xls')\n",
    "pagos = pd.Series(data=df.Importe)\n",
    "x = pagos.mean()\n",
    "std = pagos.std() #ddof=0 (n-1)  Delta Degrees of Freedom.\n",
    "n = len(pagos)"
   ]
  },
  {
   "cell_type": "code",
   "execution_count": 2,
   "metadata": {},
   "outputs": [
    {
     "name": "stdout",
     "output_type": "stream",
     "text": [
      "19.8024799869212 20.1975200130788\n"
     ]
    }
   ],
   "source": [
    "# Opcion 1: Intervalo de Confianza.\n",
    "confianza = 0.95\n",
    "alfa = 1 - confianza\n",
    "z = st.norm.ppf(1-alfa/2) # ~1.96\n",
    "print(x - z * std / np.sqrt(n), x + z * std / np.sqrt(n))"
   ]
  },
  {
   "cell_type": "code",
   "execution_count": 3,
   "metadata": {},
   "outputs": [
    {
     "name": "stdout",
     "output_type": "stream",
     "text": [
      "19.8024799869212 20.1975200130788\n"
     ]
    }
   ],
   "source": [
    "# Opcion 2: \n",
    "z2_inf, z2_sup = st.norm.interval(0.95, 0, 1) # ~1.96 para N(x=0,sigma=1) al 95% \n",
    "print(x + z2_inf * std / np.sqrt(n), x + z2_sup * std / np.sqrt(n))"
   ]
  }
 ],
 "metadata": {
  "kernelspec": {
   "display_name": "Python 3 (ipykernel)",
   "language": "python",
   "name": "python3"
  },
  "language_info": {
   "codemirror_mode": {
    "name": "ipython",
    "version": 3
   },
   "file_extension": ".py",
   "mimetype": "text/x-python",
   "name": "python",
   "nbconvert_exporter": "python",
   "pygments_lexer": "ipython3",
   "version": "3.12.2"
  }
 },
 "nbformat": 4,
 "nbformat_minor": 4
}
